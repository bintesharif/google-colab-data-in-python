{
  "cells": [
    {
      "cell_type": "markdown",
      "metadata": {
        "id": "view-in-github",
        "colab_type": "text"
      },
      "source": [
        "<a href=\"https://colab.research.google.com/github/bintesharif/google-colab-data-in-python/blob/main/04_natural_language_programming/02_ai_python_for_beginners/course2_automating_tasks/Lesson_5/Lesson_5.ipynb\" target=\"_parent\"><img src=\"https://colab.research.google.com/assets/colab-badge.svg\" alt=\"Open In Colab\"/></a>"
      ]
    },
    {
      "cell_type": "markdown",
      "id": "1d3c3445-0836-45b7-b879-df92ba1fd264",
      "metadata": {
        "id": "1d3c3445-0836-45b7-b879-df92ba1fd264"
      },
      "source": [
        "# Lesson 5 - Comparing data in Python\n"
      ]
    },
    {
      "cell_type": "markdown",
      "id": "120cb519",
      "metadata": {
        "id": "120cb519"
      },
      "source": [
        "### Download helper_function.py\n",
        "* pls set Secrets Variable for Gemini in Collab\n",
        "* `GEMINI_API_KEY`\n",
        "\n",
        "[Get API KEY From Google AI Studio](https://aistudio.google.com/app/apikey)"
      ]
    },
    {
      "cell_type": "code",
      "execution_count": 1,
      "id": "fe2735bd",
      "metadata": {
        "id": "fe2735bd",
        "outputId": "151a0425-43db-42a6-d0dc-982bb2852aa1",
        "colab": {
          "base_uri": "https://localhost:8080/"
        }
      },
      "outputs": [
        {
          "output_type": "stream",
          "name": "stdout",
          "text": [
            "  % Total    % Received % Xferd  Average Speed   Time    Time     Time  Current\n",
            "                                 Dload  Upload   Total   Spent    Left  Speed\n",
            "\r  0     0    0     0    0     0      0      0 --:--:-- --:--:-- --:--:--     0\r100  3944  100  3944    0     0  17533      0 --:--:-- --:--:-- --:--:-- 17607\n"
          ]
        }
      ],
      "source": [
        "### Download helper_function.py\n",
        "# * Set Secrets Variable for Gemini\n",
        "# * `GEMINI_API_KEY`\n",
        "\n",
        "!curl -o helper_functions.py https://raw.githubusercontent.com/panaversity/learn-cloud-native-modern-ai-python/main/04_natural_language_programming/02_ai_python_for_beginners/course1_basics/Lesson_9/helper_functions.py"
      ]
    },
    {
      "cell_type": "code",
      "execution_count": 2,
      "id": "3f11902c-9cf7-42f5-9c0f-890cfed3506c",
      "metadata": {
        "id": "3f11902c-9cf7-42f5-9c0f-890cfed3506c"
      },
      "outputs": [],
      "source": [
        "from helper_functions import print_llm_response, get_llm_response"
      ]
    },
    {
      "cell_type": "markdown",
      "id": "27643fe1-d280-4c25-9df6-4c1fbdc93c91",
      "metadata": {
        "id": "27643fe1-d280-4c25-9df6-4c1fbdc93c91"
      },
      "source": [
        "Take a closer look at the True/False variable you saw at the end of the last lesson."
      ]
    },
    {
      "cell_type": "code",
      "execution_count": 3,
      "id": "66fd82db-5451-4286-a2d8-bc2b48de47d0",
      "metadata": {
        "id": "66fd82db-5451-4286-a2d8-bc2b48de47d0"
      },
      "outputs": [],
      "source": [
        "food_preferences_tommy = {\n",
        "    #\"dietary_restrictions\": \"vegetarian\",\n",
        "    \"favorite_ingredients\": [\"mushrooms\", \"olives\"],\n",
        "    \"experience_level\": \"intermediate\",\n",
        "    \"maximum_spice_level\": 6\n",
        "}"
      ]
    },
    {
      "cell_type": "markdown",
      "id": "53d1571a-0f64-45b8-8cee-2b427e9055e4",
      "metadata": {
        "id": "53d1571a-0f64-45b8-8cee-2b427e9055e4"
      },
      "source": [
        "You added the element `\"is vegetarian\"` with a value equal to `True`"
      ]
    },
    {
      "cell_type": "code",
      "execution_count": 4,
      "id": "fa282cdb",
      "metadata": {
        "id": "fa282cdb"
      },
      "outputs": [],
      "source": [
        "food_preferences_tommy[\"is_vegetarian\"] = True"
      ]
    },
    {
      "cell_type": "markdown",
      "id": "c21c36e3-3b19-403c-b667-e81c38e8dc09",
      "metadata": {
        "id": "c21c36e3-3b19-403c-b667-e81c38e8dc09"
      },
      "source": [
        "This type of data is know as booleans. It can take only two values: `True` or `False`."
      ]
    },
    {
      "cell_type": "code",
      "execution_count": 5,
      "id": "c986cc9a-853c-46f7-bdf8-ef8df55abe32",
      "metadata": {
        "id": "c986cc9a-853c-46f7-bdf8-ef8df55abe32",
        "outputId": "92fd251d-8aa9-4eb5-abec-b58f8af18be0",
        "colab": {
          "base_uri": "https://localhost:8080/"
        }
      },
      "outputs": [
        {
          "output_type": "stream",
          "name": "stdout",
          "text": [
            "{'favorite_ingredients': ['mushrooms', 'olives'], 'experience_level': 'intermediate', 'maximum_spice_level': 6, 'is_vegetarian': True}\n"
          ]
        }
      ],
      "source": [
        "print(food_preferences_tommy)"
      ]
    },
    {
      "cell_type": "markdown",
      "id": "df2a16f0",
      "metadata": {
        "id": "df2a16f0"
      },
      "source": [
        "## True and False\n",
        "\n",
        "`True` and `False` may look like strings without quotation marks. They are the two values that booleans can take."
      ]
    },
    {
      "cell_type": "code",
      "execution_count": 6,
      "id": "bf4bbcab",
      "metadata": {
        "id": "bf4bbcab",
        "outputId": "686c3eaf-8987-4426-d60a-a03a6f704915",
        "colab": {
          "base_uri": "https://localhost:8080/"
        }
      },
      "outputs": [
        {
          "output_type": "stream",
          "name": "stdout",
          "text": [
            "True\n",
            "False\n"
          ]
        }
      ],
      "source": [
        "print(True)\n",
        "print(False)"
      ]
    },
    {
      "cell_type": "markdown",
      "id": "dd28620f",
      "metadata": {
        "id": "dd28620f"
      },
      "source": [
        "Below, you can check the type for each of these values."
      ]
    },
    {
      "cell_type": "code",
      "execution_count": 7,
      "id": "81b76163-452a-41fc-99d9-7409d501739d",
      "metadata": {
        "id": "81b76163-452a-41fc-99d9-7409d501739d",
        "outputId": "b4f5eb70-d131-4e8d-b838-fdd09145ac2a",
        "colab": {
          "base_uri": "https://localhost:8080/"
        }
      },
      "outputs": [
        {
          "output_type": "execute_result",
          "data": {
            "text/plain": [
              "bool"
            ]
          },
          "metadata": {},
          "execution_count": 7
        }
      ],
      "source": [
        "type(True)"
      ]
    },
    {
      "cell_type": "code",
      "execution_count": 8,
      "id": "65304293",
      "metadata": {
        "id": "65304293",
        "outputId": "f5ae4af2-74a7-4df0-851f-5609b3992829",
        "colab": {
          "base_uri": "https://localhost:8080/"
        }
      },
      "outputs": [
        {
          "output_type": "execute_result",
          "data": {
            "text/plain": [
              "bool"
            ]
          },
          "metadata": {},
          "execution_count": 8
        }
      ],
      "source": [
        "type(False)"
      ]
    },
    {
      "cell_type": "markdown",
      "id": "54b865d5",
      "metadata": {
        "id": "54b865d5"
      },
      "source": [
        "If you're curious, ask chatbot why it's called Boolean\n",
        "<p style=\"background-color:#F5C780; padding:15px\"> 🤖 <b>Use the Chatbot</b>: Why is the True or False data type called a Boolean?\n",
        "</p>  \n"
      ]
    },
    {
      "cell_type": "markdown",
      "id": "00fc7a7e",
      "metadata": {
        "id": "00fc7a7e"
      },
      "source": [
        "As with any other data type, you can assign booleans to variables:"
      ]
    },
    {
      "cell_type": "code",
      "execution_count": 9,
      "id": "d94fb8d3-4c0a-4247-b802-fa0a1821754b",
      "metadata": {
        "id": "d94fb8d3-4c0a-4247-b802-fa0a1821754b"
      },
      "outputs": [],
      "source": [
        "is_tommy_my_friend: bool = True"
      ]
    },
    {
      "cell_type": "code",
      "execution_count": 10,
      "id": "fe3aef3c-8c01-4ad2-867a-fef7c8afe109",
      "metadata": {
        "id": "fe3aef3c-8c01-4ad2-867a-fef7c8afe109"
      },
      "outputs": [],
      "source": [
        "is_isabel_older_than_me: bool = False"
      ]
    },
    {
      "cell_type": "code",
      "execution_count": 11,
      "id": "41c2106f-2878-459e-9b91-8b59efe0de1f",
      "metadata": {
        "id": "41c2106f-2878-459e-9b91-8b59efe0de1f",
        "outputId": "42bce32d-22e5-485e-c383-cbdf68ec680a",
        "colab": {
          "base_uri": "https://localhost:8080/"
        }
      },
      "outputs": [
        {
          "output_type": "stream",
          "name": "stdout",
          "text": [
            "True\n"
          ]
        }
      ],
      "source": [
        "print(is_tommy_my_friend)"
      ]
    },
    {
      "cell_type": "code",
      "execution_count": 12,
      "id": "2160cb40-97a6-48f9-a3ef-fc97a1b74f11",
      "metadata": {
        "id": "2160cb40-97a6-48f9-a3ef-fc97a1b74f11",
        "outputId": "f4f22631-7473-4330-f63a-783a8db7df0a",
        "colab": {
          "base_uri": "https://localhost:8080/"
        }
      },
      "outputs": [
        {
          "output_type": "stream",
          "name": "stdout",
          "text": [
            "False\n"
          ]
        }
      ],
      "source": [
        "print(is_isabel_older_than_me)"
      ]
    },
    {
      "cell_type": "code",
      "execution_count": 13,
      "id": "110edbfc-3412-4f97-91d3-f294ddf009c6",
      "metadata": {
        "id": "110edbfc-3412-4f97-91d3-f294ddf009c6",
        "outputId": "a2dcb402-ca74-4e3a-a088-101a10b204ed",
        "colab": {
          "base_uri": "https://localhost:8080/"
        }
      },
      "outputs": [
        {
          "output_type": "execute_result",
          "data": {
            "text/plain": [
              "bool"
            ]
          },
          "metadata": {},
          "execution_count": 13
        }
      ],
      "source": [
        "type(is_isabel_older_than_me)"
      ]
    },
    {
      "cell_type": "markdown",
      "id": "6930b80c",
      "metadata": {
        "id": "6930b80c"
      },
      "source": [
        "### Comparison Operators\n",
        "\n",
        "Booleans are what you get back when you compare variables in python. For example, here are the ages for Isabel, Daniel and Tommy:"
      ]
    },
    {
      "cell_type": "code",
      "execution_count": 16,
      "id": "2e3000f5",
      "metadata": {
        "id": "2e3000f5"
      },
      "outputs": [],
      "source": [
        "isabel_age: int = 28\n",
        "daniel_age: int = 30\n",
        "tommy_age: int = 30"
      ]
    },
    {
      "cell_type": "markdown",
      "id": "cc9b9c70",
      "metadata": {
        "id": "cc9b9c70"
      },
      "source": [
        "In Python you can compare values using the same operator you probably encounter in math classes. Let's start determining if Isabel is older than Daniel using `>`."
      ]
    },
    {
      "cell_type": "code",
      "execution_count": 28,
      "id": "6c9370d2-5d69-428f-8c8a-c321fa8d830b",
      "metadata": {
        "id": "6c9370d2-5d69-428f-8c8a-c321fa8d830b",
        "outputId": "06814ba2-0a2c-4bd7-a467-015f950efa67",
        "colab": {
          "base_uri": "https://localhost:8080/"
        }
      },
      "outputs": [
        {
          "output_type": "stream",
          "name": "stdout",
          "text": [
            "False\n",
            "True\n"
          ]
        }
      ],
      "source": [
        " print(isabel_age > daniel_age)\n",
        "print(28 > 7)"
      ]
    },
    {
      "cell_type": "markdown",
      "id": "3ecf1493-cddf-495f-ba6d-b21549d33538",
      "metadata": {
        "id": "3ecf1493-cddf-495f-ba6d-b21549d33538"
      },
      "source": [
        "Now, let's determine if she is younger using `<`:"
      ]
    },
    {
      "cell_type": "code",
      "execution_count": 32,
      "id": "0c6dca17-e8d0-4b22-935e-9162882f9910",
      "metadata": {
        "id": "0c6dca17-e8d0-4b22-935e-9162882f9910",
        "outputId": "75c9f15e-ba09-4d0e-8c63-06af601fc458",
        "colab": {
          "base_uri": "https://localhost:8080/"
        }
      },
      "outputs": [
        {
          "output_type": "stream",
          "name": "stdout",
          "text": [
            "True\n",
            "True\n"
          ]
        }
      ],
      "source": [
        " print   ( 28 < 30 )\n",
        "print(isabel_age < daniel_age)"
      ]
    },
    {
      "cell_type": "code",
      "execution_count": 33,
      "id": "d52d2c60-0ac9-4a4d-acb9-3bf98d56efb6",
      "metadata": {
        "id": "d52d2c60-0ac9-4a4d-acb9-3bf98d56efb6",
        "outputId": "cda1d923-ad59-48c2-8c51-bbf6fdee7ab0",
        "colab": {
          "base_uri": "https://localhost:8080/"
        }
      },
      "outputs": [
        {
          "output_type": "stream",
          "name": "stdout",
          "text": [
            "False\n"
          ]
        }
      ],
      "source": [
        "is_isabel_older_than_daniel: bool = isabel_age > daniel_age\n",
        "print(is_isabel_older_than_daniel)"
      ]
    },
    {
      "cell_type": "markdown",
      "id": "104a2ac5",
      "metadata": {
        "id": "104a2ac5"
      },
      "source": [
        "You can also use `<=` and `>=` to check if one number is greater than or equal to the other, or if it is lower than or equal to the other."
      ]
    },
    {
      "cell_type": "code",
      "execution_count": 34,
      "id": "b9a720e6-8727-4284-812a-96c5a7f502c5",
      "metadata": {
        "id": "b9a720e6-8727-4284-812a-96c5a7f502c5",
        "outputId": "19ccd8eb-99b8-4a04-a1b3-4005ceda0f88",
        "colab": {
          "base_uri": "https://localhost:8080/"
        }
      },
      "outputs": [
        {
          "output_type": "stream",
          "name": "stdout",
          "text": [
            "True\n"
          ]
        }
      ],
      "source": [
        "print(isabel_age <= daniel_age)"
      ]
    },
    {
      "cell_type": "markdown",
      "id": "73861806-67ac-4554-91a0-9d46c226cbc8",
      "metadata": {
        "id": "73861806-67ac-4554-91a0-9d46c226cbc8"
      },
      "source": [
        "Since Daniel and Tommy are the same age, when you use `<=` and `>=` you will get `True` for both cases:"
      ]
    },
    {
      "cell_type": "code",
      "execution_count": 38,
      "id": "2ce5ab16-cc4c-4911-977b-1b1bad075434",
      "metadata": {
        "id": "2ce5ab16-cc4c-4911-977b-1b1bad075434",
        "outputId": "162b38fc-5196-400a-a781-aefbe6a07bc9",
        "colab": {
          "base_uri": "https://localhost:8080/"
        }
      },
      "outputs": [
        {
          "output_type": "stream",
          "name": "stdout",
          "text": [
            "False\n"
          ]
        }
      ],
      "source": [
        "print(tommy_age < daniel_age)"
      ]
    },
    {
      "cell_type": "code",
      "source": [
        "print(tommy_age)\n",
        "print(daniel_age)"
      ],
      "metadata": {
        "id": "6iYxTpXb_Yl2",
        "outputId": "6015342a-cc12-41bf-8851-e701c20cbbd4",
        "colab": {
          "base_uri": "https://localhost:8080/"
        }
      },
      "id": "6iYxTpXb_Yl2",
      "execution_count": 40,
      "outputs": [
        {
          "output_type": "stream",
          "name": "stdout",
          "text": [
            "30\n",
            "30\n"
          ]
        }
      ]
    },
    {
      "cell_type": "code",
      "execution_count": 39,
      "id": "4919a6c8-8c01-48e4-95da-51cf265d900e",
      "metadata": {
        "id": "4919a6c8-8c01-48e4-95da-51cf265d900e",
        "outputId": "0f4e34e3-e3c9-43f2-b527-086cb53da886",
        "colab": {
          "base_uri": "https://localhost:8080/"
        }
      },
      "outputs": [
        {
          "output_type": "stream",
          "name": "stdout",
          "text": [
            "True\n"
          ]
        }
      ],
      "source": [
        "print(tommy_age <= daniel_age)"
      ]
    },
    {
      "cell_type": "markdown",
      "id": "b2cc56ad",
      "metadata": {
        "id": "b2cc56ad"
      },
      "source": [
        "### Equality Operator\n",
        "So, what if you want to check if to things are equal? You would neeed to use `==`.\n",
        "\n",
        "- `= `is an assignment operator, it assigns values to variables\n",
        "- `==` is a comparison operator, it checks if two things are holding the same value, or if two pieces of data are equal"
      ]
    },
    {
      "cell_type": "markdown",
      "id": "1ad8f8b9-5511-4647-899f-83c1cab8b659",
      "metadata": {
        "id": "1ad8f8b9-5511-4647-899f-83c1cab8b659"
      },
      "source": [
        "So, going back to comparing Daniel's and Tommy's age:"
      ]
    },
    {
      "cell_type": "code",
      "execution_count": 41,
      "id": "4ee287e3-3cd2-4e34-8d4e-eada1cb17b1c",
      "metadata": {
        "id": "4ee287e3-3cd2-4e34-8d4e-eada1cb17b1c",
        "outputId": "2190e27f-9527-473b-a550-635eb5b8db82",
        "colab": {
          "base_uri": "https://localhost:8080/"
        }
      },
      "outputs": [
        {
          "output_type": "stream",
          "name": "stdout",
          "text": [
            "True\n"
          ]
        }
      ],
      "source": [
        "print(tommy_age == daniel_age)"
      ]
    },
    {
      "cell_type": "markdown",
      "id": "1bb8a1ef-e7cd-4c8d-bb85-bac592a3cfa2",
      "metadata": {
        "id": "1bb8a1ef-e7cd-4c8d-bb85-bac592a3cfa2"
      },
      "source": [
        "And Isabel's and Daniel's:"
      ]
    },
    {
      "cell_type": "code",
      "execution_count": 42,
      "id": "bed57b0f",
      "metadata": {
        "id": "bed57b0f",
        "outputId": "107d2baf-f201-4f00-c26c-421866d4315f",
        "colab": {
          "base_uri": "https://localhost:8080/"
        }
      },
      "outputs": [
        {
          "output_type": "stream",
          "name": "stdout",
          "text": [
            "False\n"
          ]
        }
      ],
      "source": [
        "print(isabel_age == daniel_age)"
      ]
    },
    {
      "cell_type": "markdown",
      "id": "e9d3f4f0",
      "metadata": {
        "id": "e9d3f4f0"
      },
      "source": [
        "This operator works for strings too. Here you have definitive proof that a vegetarian is not the same as a vegan."
      ]
    },
    {
      "cell_type": "code",
      "execution_count": 44,
      "id": "f2f80d9f-4f26-490d-a331-8e59db46f060",
      "metadata": {
        "id": "f2f80d9f-4f26-490d-a331-8e59db46f060",
        "outputId": "4c2b89e4-e889-46ac-8c34-b989193701ee",
        "colab": {
          "base_uri": "https://localhost:8080/"
        }
      },
      "outputs": [
        {
          "output_type": "stream",
          "name": "stdout",
          "text": [
            "False\n",
            "True\n"
          ]
        }
      ],
      "source": [
        "#strings\n",
        "print(\"vegetarian\" == \"vegan\")\n",
        "print(\"vegan\" == \"vegan\")"
      ]
    },
    {
      "cell_type": "markdown",
      "id": "3faccc81",
      "metadata": {
        "id": "3faccc81"
      },
      "source": [
        "### Logical Operators"
      ]
    },
    {
      "cell_type": "markdown",
      "id": "2de271c3-68b0-41e9-821b-a6b1d8788b17",
      "metadata": {
        "id": "2de271c3-68b0-41e9-821b-a6b1d8788b17"
      },
      "source": [
        "Operations with booleans involve logical operators like `and` and `or`. Let's define a couple of boolean variables:"
      ]
    },
    {
      "cell_type": "code",
      "execution_count": 48,
      "id": "9cc10aa3-44a1-4663-80af-198008a2be60",
      "metadata": {
        "id": "9cc10aa3-44a1-4663-80af-198008a2be60"
      },
      "outputs": [],
      "source": [
        "is_tommy_my_friend: bool = True\n",
        "is_isabel_my_friend: bool = True\n",
        "is_john_my_friend: bool = False"
      ]
    },
    {
      "cell_type": "markdown",
      "id": "ccbd2a3e-9fff-4c62-8365-76a466d69480",
      "metadata": {
        "id": "ccbd2a3e-9fff-4c62-8365-76a466d69480"
      },
      "source": [
        "If you want to check whether both Tommy and Isabel are your friends, you can use the `and` operator:"
      ]
    },
    {
      "cell_type": "code",
      "execution_count": 51,
      "id": "31f3bcc0-4bcb-43e8-b146-ab0470f96dd5",
      "metadata": {
        "id": "31f3bcc0-4bcb-43e8-b146-ab0470f96dd5",
        "outputId": "378c3e3a-c95c-4f9a-d3fa-265167809c51",
        "colab": {
          "base_uri": "https://localhost:8080/"
        }
      },
      "outputs": [
        {
          "output_type": "stream",
          "name": "stdout",
          "text": [
            "True\n",
            "False\n"
          ]
        }
      ],
      "source": [
        "#            true                  true\n",
        "print(is_tommy_my_friend and is_isabel_my_friend)\n",
        "print(is_tommy_my_friend and is_john_my_friend)\n"
      ]
    },
    {
      "cell_type": "markdown",
      "id": "292e21dc-4aff-402c-80a0-481c0dece2cf",
      "metadata": {
        "id": "292e21dc-4aff-402c-80a0-481c0dece2cf"
      },
      "source": [
        "If you want to check whether at least one of them is your friend, you can use the `or` operator:"
      ]
    },
    {
      "cell_type": "code",
      "execution_count": 54,
      "id": "18256980-3b56-4d5b-8197-7a920a3004dd",
      "metadata": {
        "id": "18256980-3b56-4d5b-8197-7a920a3004dd",
        "outputId": "fdbb77d1-1693-4716-fc3e-46483ceaf1fb",
        "colab": {
          "base_uri": "https://localhost:8080/"
        }
      },
      "outputs": [
        {
          "output_type": "stream",
          "name": "stdout",
          "text": [
            "True\n",
            "True\n"
          ]
        }
      ],
      "source": [
        "#            true                false\n",
        "print(is_tommy_my_friend or is_john_my_friend)\n",
        "#             true               true\n",
        "print(is_tommy_my_friend or is_isabel_my_friend)\n"
      ]
    },
    {
      "cell_type": "markdown",
      "id": "8b34bd9d",
      "metadata": {
        "id": "8b34bd9d"
      },
      "source": [
        "Let's say that Isabel, Tommy and Daniel are playing a game involving their ages:"
      ]
    },
    {
      "cell_type": "code",
      "execution_count": 57,
      "id": "2debc569-bdc9-4756-989c-a2be8b1cf2d1",
      "metadata": {
        "id": "2debc569-bdc9-4756-989c-a2be8b1cf2d1"
      },
      "outputs": [],
      "source": [
        "khurrum_age:int = 28\n",
        "amir_age: int = 30\n",
        "rehma_age: int = 29"
      ]
    },
    {
      "cell_type": "markdown",
      "id": "92787623-d59b-4195-bca0-9ab36a993010",
      "metadata": {
        "id": "92787623-d59b-4195-bca0-9ab36a993010"
      },
      "source": [
        "The game involves checking whether Isabel is younger than both Tommy and Daniel:"
      ]
    },
    {
      "cell_type": "code",
      "execution_count": 64,
      "id": "31d50ba0-7fc6-4867-81b4-84e6202c7415",
      "metadata": {
        "id": "31d50ba0-7fc6-4867-81b4-84e6202c7415"
      },
      "outputs": [],
      "source": [
        "is_khurrum_younger_than_amir = khurrum_age < amir_age\n",
        "is_khurrum_younger_than_rehma = khurrum_age < rehma_age"
      ]
    },
    {
      "cell_type": "code",
      "source": [
        "print(is_khurrum_younger_than_amir and is_khurrum_younger_than_rehma)"
      ],
      "metadata": {
        "id": "Jd69u-YDKJnR",
        "outputId": "c7e1ad1c-7099-40ff-825d-8c4c9a8df322",
        "colab": {
          "base_uri": "https://localhost:8080/"
        }
      },
      "id": "Jd69u-YDKJnR",
      "execution_count": 65,
      "outputs": [
        {
          "output_type": "stream",
          "name": "stdout",
          "text": [
            "True\n"
          ]
        }
      ]
    },
    {
      "cell_type": "markdown",
      "id": "58f13ff5-abb1-4f49-b754-20b2301f572d",
      "metadata": {
        "id": "58f13ff5-abb1-4f49-b754-20b2301f572d"
      },
      "source": [
        "In the next video, you will use booleans to write programs that execute different lines of code depending on the boolean value."
      ]
    },
    {
      "cell_type": "markdown",
      "id": "e63f57b8-f653-4295-aff1-fac06a807136",
      "metadata": {
        "id": "e63f57b8-f653-4295-aff1-fac06a807136"
      },
      "source": [
        "## Extra practice"
      ]
    },
    {
      "cell_type": "markdown",
      "id": "ce9e6425-5ea6-4216-9262-225b79ede6df",
      "metadata": {
        "id": "ce9e6425-5ea6-4216-9262-225b79ede6df"
      },
      "source": [
        "Please go through the exercises in the cells below if you want some extra practice for the topics you covered in this lesson."
      ]
    },
    {
      "cell_type": "code",
      "execution_count": 66,
      "id": "54049d9c-c247-4ade-bee3-0ee5d72cb73c",
      "metadata": {
        "id": "54049d9c-c247-4ade-bee3-0ee5d72cb73c",
        "outputId": "d6f9ca87-048d-44a4-d2b6-5fc8ac240d25",
        "colab": {
          "base_uri": "https://localhost:8080/"
        }
      },
      "outputs": [
        {
          "output_type": "stream",
          "name": "stdout",
          "text": [
            "Check if Isabel is older than at least one of my friends\n"
          ]
        }
      ],
      "source": [
        "# Check whether Isabel is older\n",
        "# than at least one of my friends (Tommy and Daniel)\n",
        "\n",
        "### EDIT THE FOLLOWING CODE ###\n",
        "# Hint: Replace the \"?\" with the correct comparison operator\n",
        "is_rehma_older_than_khurrum = rehma_age > khurrum_age\n",
        "is_rehma_older_than_amir = rehma_age > amir_age\n",
        "### --------------- ###\n",
        "\n",
        "### EDIT THE FOLLOWING CODE ###\n",
        "#Hint: Recall the logical operators \"and\" and \"or\"\n",
        "print(\"Check if rehma is older than at least one of my friends\")\n",
        "### --------------- ###"
      ]
    },
    {
      "cell_type": "code",
      "source": [
        "print(is_rehma_older_than_khurrum)\n",
        "print(is_rehma_older_than_amir)"
      ],
      "metadata": {
        "id": "yXVI63xjNpF1",
        "outputId": "96ea992b-e06b-436a-a9d9-bfdf62480e44",
        "colab": {
          "base_uri": "https://localhost:8080/"
        }
      },
      "id": "yXVI63xjNpF1",
      "execution_count": 67,
      "outputs": [
        {
          "output_type": "stream",
          "name": "stdout",
          "text": [
            "True\n",
            "False\n"
          ]
        }
      ]
    },
    {
      "cell_type": "code",
      "source": [
        " # logical opretors (or)\n",
        " # condition\n",
        " print(is_rehma_older_than_khurrum or is_rehma_older_than_amir)\n",
        " print(is_rehma_older_than_khurrum and is_rehma_older_than_amir)\n"
      ],
      "metadata": {
        "id": "7jqdzcPkNvkY",
        "outputId": "87fceb29-ee28-4ba4-ad9c-fb90b60fc334",
        "colab": {
          "base_uri": "https://localhost:8080/"
        }
      },
      "id": "7jqdzcPkNvkY",
      "execution_count": 68,
      "outputs": [
        {
          "output_type": "stream",
          "name": "stdout",
          "text": [
            "True\n",
            "False\n"
          ]
        }
      ]
    },
    {
      "cell_type": "code",
      "source": [],
      "metadata": {
        "id": "Nm5ajpdiNvg3"
      },
      "id": "Nm5ajpdiNvg3",
      "execution_count": null,
      "outputs": []
    }
  ],
  "metadata": {
    "kernelspec": {
      "display_name": "Python 3 (ipykernel)",
      "language": "python",
      "name": "python3"
    },
    "language_info": {
      "codemirror_mode": {
        "name": "ipython",
        "version": 3
      },
      "file_extension": ".py",
      "mimetype": "text/x-python",
      "name": "python",
      "nbconvert_exporter": "python",
      "pygments_lexer": "ipython3",
      "version": "3.9.19"
    },
    "colab": {
      "provenance": [],
      "include_colab_link": true
    }
  },
  "nbformat": 4,
  "nbformat_minor": 5
}