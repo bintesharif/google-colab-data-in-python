{
  "cells": [
    {
      "cell_type": "markdown",
      "metadata": {
        "id": "view-in-github",
        "colab_type": "text"
      },
      "source": [
        "<a href=\"https://colab.research.google.com/github/bintesharif/google-colab-data-in-python/blob/main/04_natural_language_programming/02_ai_python_for_beginners/course2_automating_tasks/Lesson_4/Lesson_4.ipynb\" target=\"_parent\"><img src=\"https://colab.research.google.com/assets/colab-badge.svg\" alt=\"Open In Colab\"/></a>"
      ]
    },
    {
      "cell_type": "markdown",
      "id": "f6bf49f7-21f0-47bc-9a3e-7fd325a0b9bf",
      "metadata": {
        "id": "f6bf49f7-21f0-47bc-9a3e-7fd325a0b9bf"
      },
      "source": [
        "# Lesson 4 - Customizing recipes with lists, dictionaries and AI"
      ]
    },
    {
      "cell_type": "markdown",
      "id": "3afb15ea",
      "metadata": {
        "id": "3afb15ea"
      },
      "source": [
        "### Download helper_function.py\n",
        "* pls set Secrets Variable for Gemini in Collab\n",
        "* `GEMINI_API_KEY`\n",
        "\n",
        "[Get API KEY From Google AI Studio](https://aistudio.google.com/app/apikey)"
      ]
    },
    {
      "cell_type": "code",
      "execution_count": 72,
      "id": "38277dd1",
      "metadata": {
        "id": "38277dd1",
        "outputId": "0bcce742-98fc-4520-df08-28706ac9ff65",
        "colab": {
          "base_uri": "https://localhost:8080/"
        }
      },
      "outputs": [
        {
          "output_type": "stream",
          "name": "stdout",
          "text": [
            "  % Total    % Received % Xferd  Average Speed   Time    Time     Time  Current\n",
            "                                 Dload  Upload   Total   Spent    Left  Speed\n",
            "100  3944  100  3944    0     0  13283      0 --:--:-- --:--:-- --:--:-- 13324\n"
          ]
        }
      ],
      "source": [
        "### Download helper_function.py\n",
        "# * Set Secrets Variable for Gemini\n",
        "# * `GEMINI_API_KEY`\n",
        "\n",
        "!curl -o helper_functions.py https://raw.githubusercontent.com/panaversity/learn-cloud-native-modern-ai-python/main/04_natural_language_programming/02_ai_python_for_beginners/course1_basics/Lesson_9/helper_functions.py"
      ]
    },
    {
      "cell_type": "markdown",
      "id": "a9f73957",
      "metadata": {
        "id": "a9f73957"
      },
      "source": [
        "In the previous lesson, you went through how to use dictionaries to complete tasks by priority. In this lesson, you will see how you can use dictionaries to update LLM prompts and create food recipies that match your friends preferences, restrictions and cooking experience."
      ]
    },
    {
      "cell_type": "code",
      "execution_count": 73,
      "id": "0669df5d-5013-466b-90c8-679364ff80a1",
      "metadata": {
        "id": "0669df5d-5013-466b-90c8-679364ff80a1"
      },
      "outputs": [],
      "source": [
        "from helper_functions import print_llm_response, get_llm_response"
      ]
    },
    {
      "cell_type": "markdown",
      "id": "f2ddd461",
      "metadata": {
        "id": "f2ddd461"
      },
      "source": [
        "## Food preference dictionaries\n",
        "\n",
        "Dictionaries are a useful way to organize multiple variables associated with a single entity, like one of your friends. In the next dictionary, you store the food preferences and cooking experience for Tommy."
      ]
    },
    {
      "cell_type": "code",
      "execution_count": 5,
      "id": "5ccb6d62",
      "metadata": {
        "id": "5ccb6d62"
      },
      "outputs": [],
      "source": [
        "food_preferences_hassan: dict = {\n",
        "        \"dietary_restrictions\": \"vegetarian\",\n",
        "        \"favorite_ingredients\": [\"tofu\", \"olives\"],\n",
        "        \"experience_level\": \"intermediate\",\n",
        "        \"maximum_spice_level\": 6\n",
        "}"
      ]
    },
    {
      "cell_type": "markdown",
      "id": "b27a261d",
      "metadata": {
        "id": "b27a261d"
      },
      "source": [
        "As you can see there, that dictionary has four keys, wich you can access using `\".keys()\"`:"
      ]
    },
    {
      "cell_type": "code",
      "execution_count": 6,
      "id": "8849cd3c",
      "metadata": {
        "id": "8849cd3c",
        "outputId": "10280efb-2346-4f99-f0ae-c70bd42ae369",
        "colab": {
          "base_uri": "https://localhost:8080/"
        }
      },
      "outputs": [
        {
          "output_type": "stream",
          "name": "stdout",
          "text": [
            "dict_keys(['dietary_restrictions', 'favorite_ingredients', 'experience_level', 'maximum_spice_level'])\n"
          ]
        }
      ],
      "source": [
        "print(food_preferences_hassan.keys())"
      ]
    },
    {
      "cell_type": "markdown",
      "id": "d73a2a44",
      "metadata": {
        "id": "d73a2a44"
      },
      "source": [
        "And it has values with different data types: lists, strings and integers."
      ]
    },
    {
      "cell_type": "code",
      "execution_count": 7,
      "id": "31f98465",
      "metadata": {
        "id": "31f98465",
        "outputId": "394d8bdb-d451-464c-9de2-0dfbecfcff81",
        "colab": {
          "base_uri": "https://localhost:8080/"
        }
      },
      "outputs": [
        {
          "output_type": "stream",
          "name": "stdout",
          "text": [
            "dict_values(['vegetarian', ['tofu', 'olives'], 'intermediate', 6])\n"
          ]
        }
      ],
      "source": [
        "print(food_preferences_hassan.values())"
      ]
    },
    {
      "cell_type": "markdown",
      "id": "4d786ed3",
      "metadata": {
        "id": "4d786ed3"
      },
      "source": [
        "Let's see how you can use these in a prompt to create recipes that take into account your friends dietary preferences."
      ]
    },
    {
      "cell_type": "markdown",
      "id": "5241f8b9",
      "metadata": {
        "id": "5241f8b9"
      },
      "source": [
        "## Using keys and values within AI prompt"
      ]
    },
    {
      "cell_type": "markdown",
      "id": "6a8f30dc",
      "metadata": {
        "id": "6a8f30dc"
      },
      "source": [
        "So here's a prompt that uses all the information in the dictionary to create a customized recipe"
      ]
    },
    {
      "cell_type": "code",
      "execution_count": null,
      "id": "463a6d2a",
      "metadata": {
        "id": "463a6d2a"
      },
      "outputs": [],
      "source": [
        "prompt = f\"\"\"Please suggest a recipe that tries to include\n",
        "the following ingredients:\n",
        "{food_preferences_hassan[\"favorite_ingredients\"]}.\n",
        "\n",
        "The recipe should adhere to the following dietary restrictions:\n",
        "{food_preferences_hassan[\"dietary_restrictions\"]}.\n",
        "\n",
        "The difficulty of the recipe should be:\n",
        "{food_preferences_hassan[\"experience_level\"]}\n",
        "\n",
        "The maximum spice level on a scale of 10 should be\n",
        "{food_preferences_hassan[\"maximum_spice_level\"]}\n",
        "\n",
        "Provide a two sentence description.\n",
        "\"\"\""
      ]
    },
    {
      "cell_type": "markdown",
      "id": "b24af997",
      "metadata": {
        "id": "b24af997"
      },
      "source": [
        "Run the cell below to print the prompt."
      ]
    },
    {
      "cell_type": "code",
      "execution_count": 12,
      "id": "6cceec03-639e-460c-a0d6-b34adb2cd28d",
      "metadata": {
        "id": "6cceec03-639e-460c-a0d6-b34adb2cd28d",
        "outputId": "c0ab2136-3df2-4329-db66-7e62dd2189f7",
        "colab": {
          "base_uri": "https://localhost:8080/"
        }
      },
      "outputs": [
        {
          "output_type": "stream",
          "name": "stdout",
          "text": [
            "Please suggest a recipe that tries to include \n",
            "the following ingredients: \n",
            "['tofu', 'olives'].\n",
            "\n",
            "The recipe should adhere to the following dietary restrictions:\n",
            "vegetarian.\n",
            "\n",
            "The difficulty of the recipe should be: \n",
            "intermediate\n",
            "\n",
            "The maximum spice level on a scale of 10 should be\n",
            "6 \n",
            "\n",
            "Provide a two sentence description.\n",
            "\n"
          ]
        }
      ],
      "source": [
        "print(prompt)"
      ]
    },
    {
      "cell_type": "markdown",
      "id": "10b37203",
      "metadata": {
        "id": "10b37203"
      },
      "source": [
        "Now, you can use that prompt with an LLM to suggest a recipe to fit Tommy's preferences:"
      ]
    },
    {
      "cell_type": "code",
      "execution_count": 13,
      "id": "14850b74",
      "metadata": {
        "id": "14850b74",
        "outputId": "f3af0c2a-0469-4702-a0c7-8def2a935ae4",
        "colab": {
          "base_uri": "https://localhost:8080/",
          "height": 506
        }
      },
      "outputs": [
        {
          "output_type": "stream",
          "name": "stdout",
          "text": [
            "## Mediterranean Tofu and Olive Skewers with Lemon-Herb Marinade\n",
            "\n",
            "This recipe combines the savory flavors of tofu, olives, and a tangy lemon-herb marinade for a delicious and satisfying vegetarian meal.  The skewers are grilled or baked until the tofu is golden brown and the olives are slightly softened, creating a perfect balance of textures and flavors. \n",
            "\n",
            "**Ingredients:**\n",
            "\n",
            "* 1 package (14 oz) extra firm tofu, pressed and cubed\n",
            "* 1/2 cup pitted Kalamata olives, halved\n",
            "* 1/4 cup olive oil\n",
            "* 2 tablespoons lemon juice\n",
            "* 2 cloves garlic, minced\n",
            "* 1 tablespoon dried oregano\n",
            "* 1 teaspoon dried thyme\n",
            "* Salt and pepper to taste\n",
            "* 12 wooden skewers, soaked in water for 30 minutes\n",
            "\n",
            "**Instructions:**\n",
            "\n",
            "1. In a large bowl, combine the tofu, olives, olive oil, lemon juice, garlic, oregano, and thyme.  Season with salt and pepper to taste.  \n",
            "2. Marinate for at least 30 minutes or up to 4 hours in the refrigerator.\n",
            "3. Preheat grill to medium heat or oven to 400 degrees Fahrenheit.\n",
            "4. Thread tofu and olives onto skewers, alternating between the two.\n",
            "5. Grill skewers for 5-7 minutes per side, or bake for 15-20 minutes, until golden brown and heated through.\n",
            "6. Serve immediately.\n",
            "\n",
            "**Spice Level:** 4/10 \n",
            "\n"
          ]
        }
      ],
      "source": [
        "print_llm_response(prompt)"
      ]
    },
    {
      "cell_type": "markdown",
      "id": "e00bb0c1",
      "metadata": {
        "id": "e00bb0c1"
      },
      "source": [
        "The model followed the instructions. Tommy will be delighted!"
      ]
    },
    {
      "cell_type": "markdown",
      "id": "86e7ba47",
      "metadata": {
        "id": "86e7ba47"
      },
      "source": [
        "## Refining the prompt with available ingredients"
      ]
    },
    {
      "cell_type": "markdown",
      "id": "e813a9b6",
      "metadata": {
        "id": "e813a9b6"
      },
      "source": [
        "You can go a step further and consider the available ingredients at your house. To do so, let's use the following lists:"
      ]
    },
    {
      "cell_type": "code",
      "execution_count": 44,
      "id": "72256217-4474-4c48-a87d-36b444c25ea6",
      "metadata": {
        "id": "72256217-4474-4c48-a87d-36b444c25ea6"
      },
      "outputs": [],
      "source": [
        "available_spices: list[str] = [\"cumin\", \"turmeric\", \"oregano\", \"paprika\"]"
      ]
    },
    {
      "cell_type": "markdown",
      "id": "b2f46ab1",
      "metadata": {
        "id": "b2f46ab1"
      },
      "source": [
        "You can add these directly to the prompt so that the LLM take those into consideration"
      ]
    },
    {
      "cell_type": "code",
      "execution_count": 19,
      "id": "3b73cd00-bf5e-4865-9a05-07e7f68b1296",
      "metadata": {
        "id": "3b73cd00-bf5e-4865-9a05-07e7f68b1296",
        "outputId": "da4a2720-42c1-4ef9-add6-1455620d9e85",
        "colab": {
          "base_uri": "https://localhost:8080/"
        }
      },
      "outputs": [
        {
          "output_type": "stream",
          "name": "stdout",
          "text": [
            "Please suggest a recipe that tries to include \n",
            "the following ingredients: \n",
            "['tofu', 'olives'].\n",
            "The recipe should adhere to the following dietary restrictions:\n",
            "vegetarian.\n",
            "The difficulty of the recipe should be: \n",
            "intermediate\n",
            "The maximum spice level on a scale of 10 should be: \n",
            "6 \n",
            "Provide a two sentence description.\n",
            "\n",
            "The recipe should not include spices outside of this list:\n",
            "Spices: ['cumin', 'turmeric', 'oregano', 'paprika']\n",
            "\n"
          ]
        }
      ],
      "source": [
        "prompt = f\"\"\"Please suggest a recipe that tries to include\n",
        "the following ingredients:\n",
        "{food_preferences_hassan[\"favorite_ingredients\"]}.\n",
        "The recipe should adhere to the following dietary restrictions:\n",
        "{food_preferences_hassan[\"dietary_restrictions\"]}.\n",
        "The difficulty of the recipe should be:\n",
        "{food_preferences_hassan[\"experience_level\"]}\n",
        "The maximum spice level on a scale of 10 should be:\n",
        "{food_preferences_hassan[\"maximum_spice_level\"]}\n",
        "Provide a two sentence description.\n",
        "\n",
        "The recipe should not include spices outside of this list:\n",
        "Spices: {available_spices}\n",
        "\"\"\"\n",
        "print(prompt)"
      ]
    },
    {
      "cell_type": "markdown",
      "id": "4a78b961",
      "metadata": {
        "id": "4a78b961"
      },
      "source": [
        "Now, get the LLM response to that prompt and assign it to a variable:"
      ]
    },
    {
      "cell_type": "code",
      "execution_count": 20,
      "id": "bc9f9acf",
      "metadata": {
        "id": "bc9f9acf"
      },
      "outputs": [],
      "source": [
        "recipe: str = get_llm_response(prompt)"
      ]
    },
    {
      "cell_type": "markdown",
      "id": "c87c1079",
      "metadata": {
        "id": "c87c1079"
      },
      "source": [
        "And print the recipe that considers Tommy's restrictions as well as the available ingredients at your house."
      ]
    },
    {
      "cell_type": "code",
      "execution_count": 21,
      "id": "d211dac7",
      "metadata": {
        "id": "d211dac7",
        "outputId": "da6876f5-65bf-4c98-b7d9-d32957fc2927",
        "colab": {
          "base_uri": "https://localhost:8080/"
        }
      },
      "outputs": [
        {
          "output_type": "stream",
          "name": "stdout",
          "text": [
            "## Mediterranean Tofu and Olive Skewers\n",
            "\n",
            "This recipe features marinated tofu cubes and olives skewered and grilled, creating a delicious and healthy vegetarian dish. The marinade infuses the tofu with savory flavors, and the olives add a briny bite that complements the tofu beautifully.\n",
            "\n",
            "**Ingredients:**\n",
            "\n",
            "* 1 block firm tofu, drained and pressed\n",
            "* 1/2 cup olive oil\n",
            "* 1/4 cup lemon juice\n",
            "* 2 tbsp cumin\n",
            "* 1 tbsp turmeric\n",
            "* 1 tbsp oregano\n",
            "* 1 tbsp paprika\n",
            "* 1/2 cup pitted olives (your choice - kalamata, green, etc.)\n",
            "* Salt and pepper to taste\n",
            "\n",
            "**Instructions:**\n",
            "\n",
            "1. Cut tofu into 1-inch cubes and place in a bowl.\n",
            "2. In a separate bowl, whisk together olive oil, lemon juice, cumin, turmeric, oregano, and paprika.\n",
            "3. Pour marinade over tofu and toss to coat. Marinate for at least 30 minutes, or up to 4 hours.\n",
            "4. Preheat grill to medium-high heat.\n",
            "5. Thread tofu cubes and olives onto skewers, alternating between them.\n",
            "6. Grill skewers for 5-7 minutes per side, or until tofu is golden brown and cooked through.\n",
            "7. Season with salt and pepper to taste.\n",
            "8. Serve immediately. \n",
            "\n",
            "**Spice Level:** 6 \n",
            "\n"
          ]
        }
      ],
      "source": [
        "print(recipe)"
      ]
    },
    {
      "cell_type": "markdown",
      "id": "8dd1eebb",
      "metadata": {
        "id": "8dd1eebb"
      },
      "source": [
        "Try changing the prompt to give you step-by-step instructions and try adding a key-value pair to the dictionary that indicates favorite cuisine."
      ]
    },
    {
      "cell_type": "markdown",
      "id": "d21d016e-e278-47f9-a3da-b031eb6905e9",
      "metadata": {
        "id": "d21d016e-e278-47f9-a3da-b031eb6905e9"
      },
      "source": [
        "## Looking ahead"
      ]
    },
    {
      "cell_type": "markdown",
      "id": "71e7f4a4-efbe-4bbb-a6b4-60305a2e5427",
      "metadata": {
        "id": "71e7f4a4-efbe-4bbb-a6b4-60305a2e5427"
      },
      "source": [
        "Let's take another look at`food_preferences_tommy[\"dietary_restrictions\"]`"
      ]
    },
    {
      "cell_type": "code",
      "execution_count": 22,
      "id": "91bb95c7-1940-452d-a120-149bf8db61c7",
      "metadata": {
        "id": "91bb95c7-1940-452d-a120-149bf8db61c7",
        "outputId": "0e971e76-da55-4d00-bfaf-89fd7ded7eca",
        "colab": {
          "base_uri": "https://localhost:8080/"
        }
      },
      "outputs": [
        {
          "output_type": "stream",
          "name": "stdout",
          "text": [
            "vegetarian\n"
          ]
        }
      ],
      "source": [
        "print(food_preferences_hassan[\"dietary_restrictions\"])"
      ]
    },
    {
      "cell_type": "markdown",
      "id": "b5f5fe5e-feae-4a8a-9e11-9cfb99958df2",
      "metadata": {
        "id": "b5f5fe5e-feae-4a8a-9e11-9cfb99958df2"
      },
      "source": [
        "Here is a different way you could tell Python that Tommy is vegetarian:"
      ]
    },
    {
      "cell_type": "code",
      "source": [
        "print(food_preferences_hassan)\n"
      ],
      "metadata": {
        "id": "YBw-uv9pXHyN",
        "outputId": "00cc3663-39d7-4bc2-b14e-99ca492ed916",
        "colab": {
          "base_uri": "https://localhost:8080/"
        }
      },
      "id": "YBw-uv9pXHyN",
      "execution_count": 8,
      "outputs": [
        {
          "output_type": "stream",
          "name": "stdout",
          "text": [
            "{'dietary_restrictions': 'vegetarian', 'favorite_ingredients': ['tofu', 'olives'], 'experience_level': 'intermediate', 'maximum_spice_level': 6}\n"
          ]
        }
      ]
    },
    {
      "cell_type": "code",
      "execution_count": 9,
      "id": "c447a119-a75b-4f83-87e1-81a6f4e34c13",
      "metadata": {
        "id": "c447a119-a75b-4f83-87e1-81a6f4e34c13"
      },
      "outputs": [],
      "source": [
        "food_preferences_hassan[\"is_vegetarian\"] = True"
      ]
    },
    {
      "cell_type": "code",
      "execution_count": 10,
      "id": "bfea6233-99af-43b8-b26f-6ba0696f34c6",
      "metadata": {
        "id": "bfea6233-99af-43b8-b26f-6ba0696f34c6",
        "outputId": "f25e9d45-910c-40c8-808b-aa354eaebab6",
        "colab": {
          "base_uri": "https://localhost:8080/"
        }
      },
      "outputs": [
        {
          "output_type": "stream",
          "name": "stdout",
          "text": [
            "{'dietary_restrictions': 'vegetarian', 'favorite_ingredients': ['tofu', 'olives'], 'experience_level': 'intermediate', 'maximum_spice_level': 6, 'is_vegetarian': True}\n"
          ]
        }
      ],
      "source": [
        "print(food_preferences_hassan)"
      ]
    },
    {
      "cell_type": "markdown",
      "id": "3e43d1db-4ce2-4444-9c47-d0ae02370976",
      "metadata": {
        "id": "3e43d1db-4ce2-4444-9c47-d0ae02370976"
      },
      "source": [
        "Go to next video to see what `True` and `False` are and how they work in Python"
      ]
    },
    {
      "cell_type": "code",
      "source": [
        "# prompt: show all dict methods using ist  comprehension\n",
        "\n",
        "[method for method in dir(food_preferences_hassan) if callable(getattr(food_preferences_hassan, method)) and not method.startswith(\"__\")]\n"
      ],
      "metadata": {
        "id": "ZWgSjAPBGBRW",
        "outputId": "5db35d56-dedf-4c7e-9f52-85f9a39797fb",
        "colab": {
          "base_uri": "https://localhost:8080/"
        }
      },
      "id": "ZWgSjAPBGBRW",
      "execution_count": 11,
      "outputs": [
        {
          "output_type": "execute_result",
          "data": {
            "text/plain": [
              "['clear',\n",
              " 'copy',\n",
              " 'fromkeys',\n",
              " 'get',\n",
              " 'items',\n",
              " 'keys',\n",
              " 'pop',\n",
              " 'popitem',\n",
              " 'setdefault',\n",
              " 'update',\n",
              " 'values']"
            ]
          },
          "metadata": {},
          "execution_count": 11
        }
      ]
    },
    {
      "cell_type": "code",
      "source": [
        "new_product: dict = {\n",
        "    \"title\":\"led_tv\",\n",
        "    \"provider\":\"amazon\"\n",
        "}\n"
      ],
      "metadata": {
        "id": "_pp-Fhq1LyhK"
      },
      "id": "_pp-Fhq1LyhK",
      "execution_count": 17,
      "outputs": []
    },
    {
      "cell_type": "code",
      "source": [
        "new_product.values()"
      ],
      "metadata": {
        "id": "PZ5L8TN2QVC0",
        "outputId": "ac41279f-a9f9-4560-e3bc-8110302f8ed6",
        "colab": {
          "base_uri": "https://localhost:8080/"
        }
      },
      "id": "PZ5L8TN2QVC0",
      "execution_count": 20,
      "outputs": [
        {
          "output_type": "execute_result",
          "data": {
            "text/plain": [
              "dict_values(['led_tv', 'amazon', 100])"
            ]
          },
          "metadata": {},
          "execution_count": 20
        }
      ]
    },
    {
      "cell_type": "code",
      "source": [
        "new_product.update({\"price\":100})"
      ],
      "metadata": {
        "id": "eCQSfhL1QjzW"
      },
      "id": "eCQSfhL1QjzW",
      "execution_count": 29,
      "outputs": []
    },
    {
      "cell_type": "code",
      "source": [
        "print(new_product)"
      ],
      "metadata": {
        "id": "u6-e2rgFRnA4",
        "outputId": "3a9bf5ca-1d48-4283-9308-eb4cee4456a4",
        "colab": {
          "base_uri": "https://localhost:8080/"
        }
      },
      "id": "u6-e2rgFRnA4",
      "execution_count": 30,
      "outputs": [
        {
          "output_type": "stream",
          "name": "stdout",
          "text": [
            "{'title': 'led_tv', 'provider': 'amazon', 'price': 100}\n"
          ]
        }
      ]
    },
    {
      "cell_type": "code",
      "source": [
        "pop_data = new_product.pop(\"price\")\n",
        "print(new_product)\n",
        "print(pop_data)"
      ],
      "metadata": {
        "id": "g1-RbDh0SBny",
        "outputId": "2039c5ce-8076-49cf-e245-582c385d1ab5",
        "colab": {
          "base_uri": "https://localhost:8080/"
        }
      },
      "id": "g1-RbDh0SBny",
      "execution_count": 33,
      "outputs": [
        {
          "output_type": "stream",
          "name": "stdout",
          "text": [
            "{'title': 'led_tv', 'provider': 'amazon'}\n",
            "100\n"
          ]
        }
      ]
    },
    {
      "cell_type": "code",
      "source": [
        "new_product.items()"
      ],
      "metadata": {
        "id": "IyXdxIlpTriq",
        "outputId": "ed8a899b-b841-467f-eb98-346c34b03301",
        "colab": {
          "base_uri": "https://localhost:8080/"
        }
      },
      "id": "IyXdxIlpTriq",
      "execution_count": 34,
      "outputs": [
        {
          "output_type": "execute_result",
          "data": {
            "text/plain": [
              "dict_items([('title', 'led_tv'), ('provider', 'amazon')])"
            ]
          },
          "metadata": {},
          "execution_count": 34
        }
      ]
    },
    {
      "cell_type": "code",
      "source": [
        "brand_name = new_product.get(\"provider\",\"dell\")\n",
        "print(brand_name)"
      ],
      "metadata": {
        "id": "1CwqmMIvT29T",
        "outputId": "0c4bc20e-925b-4336-f990-9c9ccfe7f0b1",
        "colab": {
          "base_uri": "https://localhost:8080/"
        }
      },
      "id": "1CwqmMIvT29T",
      "execution_count": 37,
      "outputs": [
        {
          "output_type": "stream",
          "name": "stdout",
          "text": [
            "amazon\n"
          ]
        }
      ]
    },
    {
      "cell_type": "code",
      "source": [
        "# prompt: now examples to try each with a  explanition for roman urdu langvedg\n",
        "\n",
        "# Example 1: Accessing Dictionary Values\n",
        "\n",
        "# Explanation in Roman Urdu:\n",
        "# Is mein hum aik dictionary `food_preferences_hassan` se `dietary_restrictions` ki value access kar rahay hain.\n",
        "# Yeh bata raha hai kay Hassan ki dietary restrictions kia hain.\n",
        "\n",
        "print(food_preferences_hassan[\"dietary_restrictions\"])\n",
        "\n",
        "\n",
        "# Example 2: Adding a New Key-Value Pair\n",
        "\n",
        "# Explanation in Roman Urdu:\n",
        "# Is mein hum `food_preferences_hassan` dictionary mein aik nayi key `is_vegetarian` aur uski value `True` add kar rahay hain.\n",
        "# Yeh bata raha hai kay Hassan vegetarian hai ya nahi.\n",
        "food_preferences_hassan[\"is_vegetarian\"] = True\n",
        "print(food_preferences_hassan)\n",
        "\n",
        "\n",
        "# Example 3: Iterating Through Dictionary Keys\n",
        "\n",
        "# Explanation in Roman Urdu:\n",
        "# Is mein hum `food_preferences_hassan` dictionary ki sabhi keys ko loop kar rahay hain aur unko print kar rahay hain.\n",
        "# Yeh sabhi keys ko dekhnay mein madad karta hai.\n",
        "for key in food_preferences_hassan:\n",
        "  print(key)\n",
        "\n",
        "\n",
        "# Example 4: Checking if a Key Exists\n",
        "\n",
        "# Explanation in Roman Urdu:\n",
        "# Is mein hum check kar rahay hain kay `food_preferences_hassan` dictionary mein `favorite_cuisine` key mojood hai ya nahi.\n",
        "# Agar mojood hoti hai to `True` print hoga warna `False`.\n",
        "if \"favorite_cuisine\" in food_preferences_hassan:\n",
        "  print(True)\n",
        "else:\n",
        "  print(False)\n",
        "\n",
        "\n",
        "# Example 5: Removing a Key-Value Pair\n",
        "\n",
        "# Explanation in Roman Urdu:\n",
        "# Is mein hum `food_preferences_hassan` dictionary se `experience_level` key aur uski value ko remove kar rahay hain.\n",
        "# Yeh dictionary se koi bhi key-value pair ko hatane ka tareeqa batata hai.\n",
        "if \"experience_level\" in food_preferences_hassan:\n",
        "  del food_preferences_hassan[\"experience_level\"]\n",
        "print(food_preferences_hassan)\n"
      ],
      "metadata": {
        "id": "Nlc4hWVoHEea",
        "outputId": "c8645a04-3816-41c5-c608-0e271664df9f",
        "colab": {
          "base_uri": "https://localhost:8080/"
        }
      },
      "id": "Nlc4hWVoHEea",
      "execution_count": 12,
      "outputs": [
        {
          "output_type": "stream",
          "name": "stdout",
          "text": [
            "vegetarian\n",
            "{'dietary_restrictions': 'vegetarian', 'favorite_ingredients': ['tofu', 'olives'], 'experience_level': 'intermediate', 'maximum_spice_level': 6, 'is_vegetarian': True}\n",
            "dietary_restrictions\n",
            "favorite_ingredients\n",
            "experience_level\n",
            "maximum_spice_level\n",
            "is_vegetarian\n",
            "False\n",
            "{'dietary_restrictions': 'vegetarian', 'favorite_ingredients': ['tofu', 'olives'], 'maximum_spice_level': 6, 'is_vegetarian': True}\n"
          ]
        }
      ]
    },
    {
      "cell_type": "code",
      "source": [],
      "metadata": {
        "id": "HlgiiL4DIy_l"
      },
      "id": "HlgiiL4DIy_l",
      "execution_count": null,
      "outputs": []
    },
    {
      "cell_type": "markdown",
      "id": "cc7e65ef-1983-43d0-93b5-ce29a2c9f387",
      "metadata": {
        "id": "cc7e65ef-1983-43d0-93b5-ce29a2c9f387"
      },
      "source": [
        "## Extra practice"
      ]
    },
    {
      "cell_type": "markdown",
      "id": "7389bce5-8c0d-41cf-b347-01c741078ef0",
      "metadata": {
        "id": "7389bce5-8c0d-41cf-b347-01c741078ef0"
      },
      "source": [
        "Please go through the exercises in the cells below if you want some extra practice for the topics you covered in this lesson."
      ]
    },
    {
      "cell_type": "code",
      "execution_count": 106,
      "id": "83969e6c-e89b-4061-8a9b-69764225dccd",
      "metadata": {
        "id": "83969e6c-e89b-4061-8a9b-69764225dccd",
        "outputId": "59ecea17-2d0c-4d75-cbb6-7788e5d9a49a",
        "colab": {
          "base_uri": "https://localhost:8080/"
        }
      },
      "outputs": [
        {
          "output_type": "stream",
          "name": "stdout",
          "text": [
            "{'dietary_restrictions': 'non_vegetarian', 'favorite_ingredients': ['maton', 'rice'], 'experience_level': 'master_level', 'maximum_spice_level': 5}\n"
          ]
        }
      ],
      "source": [
        "# Update the following dictionary\n",
        "# with your own preferences\n",
        "\n",
        "### EDIT THE FOLLOWING CODE ###\n",
        "my_food_preferences_hassan = {\n",
        "        \"dietary_restrictions\": \"non_vegetarian\", #List with dietary restrictions\n",
        "        \"favorite_ingredients\": [\"beef\" \"rice\" \"olives\"], #List with top three favorite ingredients\n",
        "        \"experience_level\"    :  \"master_level\",\n",
        "        \"maximum_spice_level\":  5\n",
        "}\n",
        "### --------------- ###\n",
        "\n",
        "print(my_food_preferences)"
      ]
    },
    {
      "cell_type": "code",
      "source": [
        "available_spices: list[str] = [\"cumin\", \"turmeric\", \"black_peper\", \"paprika\",\"salt\"]"
      ],
      "metadata": {
        "id": "CziWDqaLbG1K"
      },
      "id": "CziWDqaLbG1K",
      "execution_count": 107,
      "outputs": []
    },
    {
      "cell_type": "code",
      "source": [
        "# Modify the following prompt,\n",
        "# without adding more than two sentences,\n",
        "# so that the provided recipe includes detailed instructions.\n",
        "\n",
        "### EDIT THE FOLLOWING CODE ###\n",
        "#Hint: look at the last sentence in this prompt\n",
        "prompt = f\"\"\"Please suggest a recipe that tries to include\n",
        "the following ingredients:\n",
        "{my_food_preferences_hassan[\"favorite_ingredients\"]}.\n",
        "\n",
        "The recipe should adhere to the following dietary restrictions:\n",
        "{my_food_preferences_hassan[\"dietary_restrictions\"]}.\n",
        "\n",
        "The difficulty of the recipe should be:\n",
        "{my_food_preferences_hassan[\"experience_level\"]}\n",
        "\n",
        "The maximum spice level on a scale of 10 should be:\n",
        "{my_food_preferences_hassan[\"maximum_spice_level\"]}\n",
        "\n",
        "Provide step-by-step instructions for preparing the recipe.\n",
        "\n",
        "The recipe should not include spices outside of this list:\n",
        "Spices: {available_spices}\n",
        "\"\"\"\n",
        "### --------------- ###\n",
        "\n",
        "print(prompt)\n"
      ],
      "metadata": {
        "id": "cJTytyesgTxr",
        "outputId": "315d3f01-7e7e-40c7-896d-f83ad8adbbbd",
        "colab": {
          "base_uri": "https://localhost:8080/"
        }
      },
      "id": "cJTytyesgTxr",
      "execution_count": 108,
      "outputs": [
        {
          "output_type": "stream",
          "name": "stdout",
          "text": [
            "Please suggest a recipe that tries to include \n",
            "the following ingredients: \n",
            "['beefriceolives'].\n",
            "\n",
            "The recipe should adhere to the following dietary restrictions:\n",
            "non_vegetarian.\n",
            "\n",
            "The difficulty of the recipe should be: \n",
            "master_level\n",
            "\n",
            "The maximum spice level on a scale of 10 should be: \n",
            "5 \n",
            "\n",
            "Provide step-by-step instructions for preparing the recipe.\n",
            "\n",
            "The recipe should not include spices outside of this list:\n",
            "Spices: ['cumin', 'turmeric', 'black_peper', 'paprika', 'salt']\n",
            "\n"
          ]
        }
      ]
    },
    {
      "cell_type": "code",
      "source": [
        "recipe: str = get_llm_response(prompt)"
      ],
      "metadata": {
        "id": "71Ja8vEhhzO1"
      },
      "id": "71Ja8vEhhzO1",
      "execution_count": 109,
      "outputs": []
    },
    {
      "cell_type": "code",
      "source": [
        "print(recipe)"
      ],
      "metadata": {
        "id": "cFYMe3kKicqI",
        "outputId": "98d89f1e-b355-496d-e84f-bb9abd44b39f",
        "colab": {
          "base_uri": "https://localhost:8080/"
        }
      },
      "id": "cFYMe3kKicqI",
      "execution_count": 110,
      "outputs": [
        {
          "output_type": "stream",
          "name": "stdout",
          "text": [
            "## Beef, Rice, and Olive Paella with Saffron and Chorizo\n",
            "\n",
            "**Yields:** 6 servings\n",
            "**Prep time:** 30 minutes\n",
            "**Cook time:** 45 minutes\n",
            "**Difficulty:** Master\n",
            "\n",
            "**Ingredients:**\n",
            "\n",
            "* 1 lb beef tenderloin, trimmed and cut into 1-inch cubes\n",
            "* 1/2 cup olive oil\n",
            "* 1 large onion, chopped\n",
            "* 2 cloves garlic, minced\n",
            "* 1/2 cup chopped chorizo\n",
            "* 1 teaspoon ground cumin\n",
            "* 1 teaspoon ground turmeric\n",
            "* 1/2 teaspoon black pepper\n",
            "* 1/2 teaspoon paprika\n",
            "* 1/2 cup dry white wine\n",
            "* 1 (14.5 oz) can diced tomatoes, undrained\n",
            "* 1 cup chicken broth\n",
            "* 1 cup Arborio rice\n",
            "* 1/2 cup green olives, pitted and halved\n",
            "* 1/4 cup chopped fresh parsley\n",
            "* 1/4 teaspoon saffron threads\n",
            "* Salt to taste\n",
            "\n",
            "**Instructions:**\n",
            "\n",
            "**1. Marinate the Beef:** In a large bowl, combine the beef cubes, 1/4 cup olive oil, 1/4 teaspoon cumin, 1/4 teaspoon turmeric, 1/4 teaspoon black pepper, 1/4 teaspoon paprika, and salt to taste. Marinate for at least 30 minutes.\n",
            "\n",
            "**2. Prepare the Chorizo and Vegetables:** In a large paella pan or Dutch oven, heat the remaining olive oil over medium heat. Add the chorizo and cook, stirring occasionally, until browned and crispy. Remove the chorizo and set aside. Add the onion and garlic to the pan and cook, stirring occasionally, until softened, about 5 minutes. \n",
            "\n",
            "**3. Sear the Beef:** Remove the beef from the marinade and pat dry. Add the beef to the pan and sear on all sides until browned. Remove the beef and set aside. \n",
            "\n",
            "**4. Deglaze the Pan and Add Liquids:** Add the white wine to the pan and bring to a boil, scraping up any browned bits from the bottom. Add the diced tomatoes, chicken broth, and remaining cumin, turmeric, black pepper, and paprika. Bring to a simmer.\n",
            "\n",
            "**5. Cook the Rice:** Add the rice to the pan and stir to coat. Bring to a boil, then reduce heat to low, cover, and simmer for 15 minutes, or until the rice is cooked through and the liquid is absorbed.\n",
            "\n",
            "**6. Finish the Paella:** Stir in the saffron threads, chorizo, olives, parsley, and seared beef. Cover and simmer for 5 minutes. \n",
            "\n",
            "**7. Rest and Serve:** Remove from heat and let the paella rest for 5 minutes before serving. Serve hot. \n",
            "\n",
            "**Tips:**\n",
            "\n",
            "* For a more authentic paella, use Bomba rice, a short-grain rice specifically designed for paella.\n",
            "* Don't stir the paella too much once the rice is added, as this can make the rice mushy.\n",
            "* For a richer flavor, substitute half of the chicken broth with beef broth.\n",
            "* Feel free to add other vegetables to the paella, such as peas, green beans, or bell peppers. \n",
            "\n",
            "**Enjoy your masterfully crafted paella!** \n",
            "\n"
          ]
        }
      ]
    }
  ],
  "metadata": {
    "kernelspec": {
      "display_name": "Python 3 (ipykernel)",
      "language": "python",
      "name": "python3"
    },
    "language_info": {
      "codemirror_mode": {
        "name": "ipython",
        "version": 3
      },
      "file_extension": ".py",
      "mimetype": "text/x-python",
      "name": "python",
      "nbconvert_exporter": "python",
      "pygments_lexer": "ipython3",
      "version": "3.9.19"
    },
    "colab": {
      "provenance": [],
      "include_colab_link": true
    }
  },
  "nbformat": 4,
  "nbformat_minor": 5
}